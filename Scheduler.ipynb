{
 "cells": [
  {
   "cell_type": "markdown",
   "id": "c0c0bd96-f38a-4b5d-ad01-f968dd18fdcb",
   "metadata": {},
   "source": [
    "Lets create a simple task scheduler "
   ]
  },
  {
   "cell_type": "markdown",
   "id": "79220e16-c51c-4b16-948a-5592ef4ced26",
   "metadata": {},
   "source": [
    "A task is defined as an arithmetic operation ADD, SUB, MUL, DIV that acts on two operands only"
   ]
  },
  {
   "cell_type": "code",
   "execution_count": 1,
   "id": "77a46b83-c36f-4b46-8eed-d326027400d4",
   "metadata": {},
   "outputs": [],
   "source": [
    "class Task ():\n",
    "    '''\n",
    "    Class definition of a Task\n",
    "    Args: \n",
    "        1. name: str => ADD, SUB, MUL, DIV\n",
    "        2. params_list => A list of two operands (integers)\n",
    "        3. priority: integer => 0 being most urgent, 1 less so, and so on \n",
    "    '''\n",
    "    def __init__(self, name, params_list, priority): \n",
    "        assert len(params_list) == 2 # Insist on having only two operands\n",
    "        self.name = name # Name: ADD, SUB, MUL, DIV\n",
    "        self.params = params_list\n",
    "        self.priority = priority # Priority 0 being most urgent, 1 less so and so on\n",
    "    def __str__(self): # This is like a customized print method\n",
    "        return 'Executing ' + self.name + '!'"
   ]
  },
  {
   "cell_type": "markdown",
   "id": "540d3de5-68e9-451d-80cf-2a0abe91fee6",
   "metadata": {},
   "source": [
    "The scheduler gets a task list and executes it in order of the assigned priority"
   ]
  },
  {
   "cell_type": "code",
   "execution_count": 2,
   "id": "45ca02d4-0d0e-4a3e-80cb-861bb6f8bba6",
   "metadata": {
    "tags": []
   },
   "outputs": [],
   "source": [
    "class Scheduler ():\n",
    "    '''\n",
    "    Scheduler that schedules the task based on priority\n",
    "    '''\n",
    "    def __init__ (self, task_list):\n",
    "        self.task_list = task_list\n",
    "    # Execute the function based on its priority\n",
    "    def execute (self):    \n",
    "        task_list_by_priority = sorted(self.task_list, key = lambda x: x.priority) # sort the task on priority asc\n",
    "        while (1):\n",
    "            if task_list_by_priority == []:\n",
    "                break\n",
    "            else:\n",
    "                execute = task_list_by_priority.pop(0) # pop the lowest priority element\n",
    "                print (execute) # custom print statement gets executed\n",
    "                if execute.name == 'ADD':\n",
    "                    print (execute.params[0] + execute.params[1])\n",
    "                elif execute.name == 'SUB':\n",
    "                    print (execute.params[0] - execute.params[1])\n",
    "                elif execute.name == 'MUL':\n",
    "                    print (execute.params[0] * execute.params[1])      \n",
    "                elif execute.name == 'DIV':\n",
    "                    if execute.params[1] > 0:\n",
    "                        print (execute.params[0] / execute.params[1])\n",
    "                    else:\n",
    "                        print (\"Divide by zero!\")\n",
    "                else:\n",
    "                    continue\n",
    "        return None"
   ]
  },
  {
   "cell_type": "code",
   "execution_count": 3,
   "id": "57939556-ba91-426c-b07a-f1822b2b2bce",
   "metadata": {},
   "outputs": [],
   "source": [
    "ADD = Task ('ADD', [2,3], 2)\n",
    "SUB = Task ('SUB', [3,2], 1)\n",
    "MUL = Task ('MUL', [4,5], 0)\n",
    "DIV = Task ('DIV', [6, 1],3)"
   ]
  },
  {
   "cell_type": "code",
   "execution_count": 4,
   "id": "7f11fd98-743a-4b75-9f23-e69227db372b",
   "metadata": {
    "tags": []
   },
   "outputs": [
    {
     "name": "stdout",
     "output_type": "stream",
     "text": [
      "Executing ADD!\n"
     ]
    }
   ],
   "source": [
    "print (ADD)"
   ]
  },
  {
   "cell_type": "code",
   "execution_count": 5,
   "id": "114cf22d-07b1-4501-a1d0-da9a92c74512",
   "metadata": {
    "tags": []
   },
   "outputs": [
    {
     "name": "stdout",
     "output_type": "stream",
     "text": [
      "Executing MUL!\n"
     ]
    }
   ],
   "source": [
    "print (MUL)"
   ]
  },
  {
   "cell_type": "code",
   "execution_count": 6,
   "id": "c16306c3-e33b-48ac-a335-76f6f057c35e",
   "metadata": {
    "tags": []
   },
   "outputs": [],
   "source": [
    "TASK_LIST = [ADD, SUB, MUL, DIV] # Tasks will get executed based on their priority"
   ]
  },
  {
   "cell_type": "code",
   "execution_count": 7,
   "id": "1ec52df2-00c0-4e4a-bfce-c6eeb467beb3",
   "metadata": {
    "tags": []
   },
   "outputs": [
    {
     "name": "stdout",
     "output_type": "stream",
     "text": [
      "Executing MUL!\n",
      "20\n",
      "Executing SUB!\n",
      "1\n",
      "Executing ADD!\n",
      "5\n",
      "Executing DIV!\n",
      "6.0\n"
     ]
    }
   ],
   "source": [
    "Scheduler(TASK_LIST).execute()"
   ]
  },
  {
   "cell_type": "code",
   "execution_count": 8,
   "id": "b91fdfdd-f1a4-43d7-95ec-aebdde9780bf",
   "metadata": {
    "tags": []
   },
   "outputs": [],
   "source": [
    "ADD = Task ('ADD', [2,3], 2)\n",
    "SUB = Task ('SUB', [3,2], 3)\n",
    "MUL = Task ('MUL', [4,5], 1)\n",
    "DIV = Task ('DIV', [6, 0],0)"
   ]
  },
  {
   "cell_type": "code",
   "execution_count": 9,
   "id": "aae19bde-f9db-4204-8304-50f315aa5504",
   "metadata": {
    "tags": []
   },
   "outputs": [],
   "source": [
    "TASK_LIST = [ADD, SUB, MUL, DIV] "
   ]
  },
  {
   "cell_type": "code",
   "execution_count": 10,
   "id": "f79439c9-c348-4495-9bba-8572d694742c",
   "metadata": {
    "tags": []
   },
   "outputs": [
    {
     "name": "stdout",
     "output_type": "stream",
     "text": [
      "Executing DIV!\n",
      "Divide by zero!\n",
      "Executing MUL!\n",
      "20\n",
      "Executing ADD!\n",
      "5\n",
      "Executing SUB!\n",
      "1\n"
     ]
    }
   ],
   "source": [
    "Scheduler(TASK_LIST).execute() # Note the divide by zero error"
   ]
  },
  {
   "cell_type": "code",
   "execution_count": 11,
   "id": "b2c728f5-902f-4ee9-a0f2-52e3428f10eb",
   "metadata": {
    "tags": []
   },
   "outputs": [
    {
     "ename": "AssertionError",
     "evalue": "",
     "output_type": "error",
     "traceback": [
      "\u001b[0;31m---------------------------------------------------------------------------\u001b[0m",
      "\u001b[0;31mAssertionError\u001b[0m                            Traceback (most recent call last)",
      "Cell \u001b[0;32mIn[11], line 1\u001b[0m\n\u001b[0;32m----> 1\u001b[0m ADD \u001b[38;5;241m=\u001b[39m Task (\u001b[38;5;124m'\u001b[39m\u001b[38;5;124mADD\u001b[39m\u001b[38;5;124m'\u001b[39m, [\u001b[38;5;241m2\u001b[39m,\u001b[38;5;241m3\u001b[39m,\u001b[38;5;241m5\u001b[39m], \u001b[38;5;241m2\u001b[39m) \u001b[38;5;66;03m# Having more than two operands\u001b[39;00m\n\u001b[1;32m      2\u001b[0m SUB \u001b[38;5;241m=\u001b[39m Task (\u001b[38;5;124m'\u001b[39m\u001b[38;5;124mSUB\u001b[39m\u001b[38;5;124m'\u001b[39m, [\u001b[38;5;241m3\u001b[39m,\u001b[38;5;241m2\u001b[39m], \u001b[38;5;241m3\u001b[39m)\n\u001b[1;32m      3\u001b[0m MUL \u001b[38;5;241m=\u001b[39m Task (\u001b[38;5;124m'\u001b[39m\u001b[38;5;124mMUL\u001b[39m\u001b[38;5;124m'\u001b[39m, [\u001b[38;5;241m4\u001b[39m,\u001b[38;5;241m5\u001b[39m], \u001b[38;5;241m1\u001b[39m)\n",
      "Cell \u001b[0;32mIn[1], line 10\u001b[0m, in \u001b[0;36mTask.__init__\u001b[0;34m(self, name, params_list, priority)\u001b[0m\n\u001b[1;32m      9\u001b[0m \u001b[38;5;28;01mdef\u001b[39;00m \u001b[38;5;21m__init__\u001b[39m(\u001b[38;5;28mself\u001b[39m, name, params_list, priority): \n\u001b[0;32m---> 10\u001b[0m     \u001b[38;5;28;01massert\u001b[39;00m \u001b[38;5;28mlen\u001b[39m(params_list) \u001b[38;5;241m==\u001b[39m \u001b[38;5;241m2\u001b[39m \u001b[38;5;66;03m# Insist on having only two operands\u001b[39;00m\n\u001b[1;32m     11\u001b[0m     \u001b[38;5;28mself\u001b[39m\u001b[38;5;241m.\u001b[39mname \u001b[38;5;241m=\u001b[39m name \u001b[38;5;66;03m# Name: ADD, SUB, MUL, DIV\u001b[39;00m\n\u001b[1;32m     12\u001b[0m     \u001b[38;5;28mself\u001b[39m\u001b[38;5;241m.\u001b[39mparams \u001b[38;5;241m=\u001b[39m params_list\n",
      "\u001b[0;31mAssertionError\u001b[0m: "
     ]
    }
   ],
   "source": [
    "ADD = Task ('ADD', [2,3,5], 2) # Having more than two operands\n",
    "SUB = Task ('SUB', [3,2], 3)\n",
    "MUL = Task ('MUL', [4,5], 1)\n",
    "DIV = Task ('DIV', [6, 0],0)"
   ]
  }
 ],
 "metadata": {
  "kernelspec": {
   "display_name": "Python 3 (ipykernel)",
   "language": "python",
   "name": "python3"
  },
  "language_info": {
   "codemirror_mode": {
    "name": "ipython",
    "version": 3
   },
   "file_extension": ".py",
   "mimetype": "text/x-python",
   "name": "python",
   "nbconvert_exporter": "python",
   "pygments_lexer": "ipython3",
   "version": "3.11.5"
  }
 },
 "nbformat": 4,
 "nbformat_minor": 5
}
