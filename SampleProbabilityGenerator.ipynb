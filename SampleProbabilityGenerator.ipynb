{
 "cells": [
  {
   "cell_type": "markdown",
   "id": "8ed80497-0cb1-46da-bc32-ad256fdc4693",
   "metadata": {},
   "source": [
    "In this little demonstration, I wish to do an action with some probability epsilon"
   ]
  },
  {
   "cell_type": "code",
   "execution_count": 1,
   "id": "c9a2c28a-83b6-46f6-9a8e-77b95b27f715",
   "metadata": {
    "tags": []
   },
   "outputs": [],
   "source": [
    "import random\n",
    "import math"
   ]
  },
  {
   "cell_type": "markdown",
   "id": "30c80fbe-222f-4fdf-aa13-5842856d6a36",
   "metadata": {},
   "source": [
    "### Function 1"
   ]
  },
  {
   "cell_type": "markdown",
   "id": "6c8d1dd8-12d6-4999-9e71-39c29a22e8ec",
   "metadata": {},
   "source": [
    "We define a function namely do_with_probability() that takes as input a fixed value epsilon between 0 and 1."
   ]
  },
  {
   "cell_type": "code",
   "execution_count": 2,
   "id": "215ee007-6718-4f56-8d00-4d21058f05c4",
   "metadata": {
    "tags": []
   },
   "outputs": [],
   "source": [
    "def do_with_probability (epsilon):\n",
    "    x = 0\n",
    "    while (True):\n",
    "        if epsilon == math.floor(epsilon):\n",
    "            x = math.floor (epsilon)\n",
    "            break\n",
    "        else:\n",
    "            epsilon *= 10\n",
    "            x += 1\n",
    "    choice = random.randint(1,10**x)\n",
    "    if choice < x:\n",
    "        return True\n",
    "    return False\n",
    "        "
   ]
  },
  {
   "cell_type": "code",
   "execution_count": 3,
   "id": "6196d156-1333-4f74-94f6-a605319fd6e4",
   "metadata": {
    "tags": []
   },
   "outputs": [
    {
     "data": {
      "text/plain": [
       "False"
      ]
     },
     "execution_count": 3,
     "metadata": {},
     "output_type": "execute_result"
    }
   ],
   "source": [
    "do_with_probability (0.003)"
   ]
  },
  {
   "cell_type": "markdown",
   "id": "4c630c48-cf4c-42d6-a53a-84f0dbc27591",
   "metadata": {},
   "source": [
    "In order to validate that while using the function do_with_probabiliy (epsilon = 0.003), we will actually be doing that action on average 3 out of 1000 times, we call this function for 1000 times and see how many truth counts we do get."
   ]
  },
  {
   "cell_type": "markdown",
   "id": "35c66da5-a0d7-470d-a303-1de81f2caf60",
   "metadata": {},
   "source": [
    "- Run this cell multiple times to see what the value of count is. It should hover around 3."
   ]
  },
  {
   "cell_type": "code",
   "execution_count": 4,
   "id": "5c167071-b45c-4719-9dab-45257dbccad5",
   "metadata": {
    "tags": []
   },
   "outputs": [
    {
     "name": "stdout",
     "output_type": "stream",
     "text": [
      "4\n"
     ]
    }
   ],
   "source": [
    "count = 0\n",
    "for i in range (1000):\n",
    "    if do_with_probability (0.03) == True:\n",
    "        count += 1\n",
    "print (count)"
   ]
  },
  {
   "cell_type": "code",
   "execution_count": 5,
   "id": "ff633d1e-329b-4cf4-b246-4be26c9c9549",
   "metadata": {
    "tags": []
   },
   "outputs": [],
   "source": [
    "run = 10000 # Try different values of run"
   ]
  },
  {
   "cell_type": "markdown",
   "id": "94afe75d-bbb4-4505-9c53-31f93c195d2c",
   "metadata": {},
   "source": [
    "Let us run the previous cell run times and average over the values of count for each batch of 1000 runs."
   ]
  },
  {
   "cell_type": "code",
   "execution_count": 6,
   "id": "cf20069f-b003-442e-b941-4116a6c70ad4",
   "metadata": {
    "tags": []
   },
   "outputs": [
    {
     "name": "stdout",
     "output_type": "stream",
     "text": [
      "On average, an action is done for:  2.0037  out of  1000  times.\n"
     ]
    }
   ],
   "source": [
    "avg_count = 0\n",
    "\n",
    "for k in range (run):\n",
    "    count = 0\n",
    "    for i in range (1000):\n",
    "        if do_with_probability (0.03) == True:\n",
    "            count += 1\n",
    "    # print (\"Iteration: \", i+1, \", Count for this iteration: \", count) # Uncomment to see count for each batch of 1000 iterations\n",
    "    avg_count += count\n",
    "\n",
    "print (\"On average, an action is done for: \", avg_count/run, \" out of \", 1000,\" times.\")"
   ]
  },
  {
   "cell_type": "markdown",
   "id": "2a83e6be-a180-45e4-bca1-250cafc7ba90",
   "metadata": {},
   "source": [
    "On average, the probability of doing our action with an epislon probability is reasonably good :)."
   ]
  }
 ],
 "metadata": {
  "kernelspec": {
   "display_name": "Python 3 (ipykernel)",
   "language": "python",
   "name": "python3"
  },
  "language_info": {
   "codemirror_mode": {
    "name": "ipython",
    "version": 3
   },
   "file_extension": ".py",
   "mimetype": "text/x-python",
   "name": "python",
   "nbconvert_exporter": "python",
   "pygments_lexer": "ipython3",
   "version": "3.11.5"
  }
 },
 "nbformat": 4,
 "nbformat_minor": 5
}
