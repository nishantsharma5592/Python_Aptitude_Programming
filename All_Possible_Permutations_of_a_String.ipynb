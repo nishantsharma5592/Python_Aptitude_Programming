{
 "cells": [
  {
   "cell_type": "markdown",
   "id": "70ef641e-51e0-43b6-8c23-5321ff8fca7b",
   "metadata": {},
   "source": [
    "### Function 1"
   ]
  },
  {
   "cell_type": "markdown",
   "id": "1d913c09-f5e9-42db-b224-857e71c42f23",
   "metadata": {
    "tags": []
   },
   "source": [
    "We define a function namely 'everything_but' which takes as input an element and a string and returns the string without the element in it. If the element is not present in the string, the original string is returned."
   ]
  },
  {
   "cell_type": "code",
   "execution_count": 6,
   "id": "74a401f2-059d-40b9-a4e9-32fc480b170d",
   "metadata": {
    "tags": []
   },
   "outputs": [],
   "source": [
    "def everything_but(ele, string):\n",
    "    return string.replace (ele, \"\")"
   ]
  },
  {
   "cell_type": "markdown",
   "id": "a77eaf46-62a6-429d-93f8-54ae0518eafa",
   "metadata": {},
   "source": [
    "Let us write a few cases to see the working on the everythingBut()"
   ]
  },
  {
   "cell_type": "code",
   "execution_count": 7,
   "id": "0db497b0-16fd-43bb-981e-5ca85a43f1a6",
   "metadata": {
    "tags": []
   },
   "outputs": [
    {
     "data": {
      "text/plain": [
       "'bcde'"
      ]
     },
     "execution_count": 7,
     "metadata": {},
     "output_type": "execute_result"
    }
   ],
   "source": [
    "everything_but(\"a\", \"abcde\")"
   ]
  },
  {
   "cell_type": "code",
   "execution_count": 8,
   "id": "c8aba47c-6df8-4df7-a58a-8aeaaf93f01c",
   "metadata": {
    "tags": []
   },
   "outputs": [
    {
     "data": {
      "text/plain": [
       "'abcd'"
      ]
     },
     "execution_count": 8,
     "metadata": {},
     "output_type": "execute_result"
    }
   ],
   "source": [
    "everything_but(\"e\", \"abcde\")"
   ]
  },
  {
   "cell_type": "code",
   "execution_count": 9,
   "id": "f0f0e535-3fde-4fc6-9478-0081c47851b3",
   "metadata": {
    "tags": []
   },
   "outputs": [
    {
     "data": {
      "text/plain": [
       "'abcde'"
      ]
     },
     "execution_count": 9,
     "metadata": {},
     "output_type": "execute_result"
    }
   ],
   "source": [
    "everything_but(\"z\", \"abcde\") # Element z does not exist in the given string"
   ]
  },
  {
   "cell_type": "markdown",
   "id": "ea16dee8-eac7-4882-891b-4c4df209b040",
   "metadata": {},
   "source": [
    "### Function 2"
   ]
  },
  {
   "cell_type": "markdown",
   "id": "00e7a214-a857-49c8-b8c9-ea719988c830",
   "metadata": {},
   "source": [
    "We define a function namely insert_char that takes as input a string, an index and an element and returns a string with the element sandwiched inside the string at index"
   ]
  },
  {
   "cell_type": "code",
   "execution_count": 10,
   "id": "da8f4279-1e3d-41bc-bd28-a82bb2c6c8d9",
   "metadata": {
    "tags": []
   },
   "outputs": [],
   "source": [
    "def insert_char(string, index, ele):\n",
    "    return string[:index] + ele + string[index:]"
   ]
  },
  {
   "cell_type": "markdown",
   "id": "744e5aa2-85d9-4fcd-be27-e76af4a665b0",
   "metadata": {},
   "source": [
    "Let us invoke the function insert_char to see what it really does"
   ]
  },
  {
   "cell_type": "code",
   "execution_count": 11,
   "id": "5be2595d-d355-44b2-bbd0-c8b545dbd120",
   "metadata": {
    "tags": []
   },
   "outputs": [
    {
     "data": {
      "text/plain": [
       "'zabcde'"
      ]
     },
     "execution_count": 11,
     "metadata": {},
     "output_type": "execute_result"
    }
   ],
   "source": [
    "insert_char (\"abcde\", 0, \"z\" ) # Insert z at the start of the string"
   ]
  },
  {
   "cell_type": "code",
   "execution_count": 12,
   "id": "a0d98202-b8a1-438c-8424-801e97c3edf4",
   "metadata": {
    "tags": []
   },
   "outputs": [
    {
     "data": {
      "text/plain": [
       "'abcdez'"
      ]
     },
     "execution_count": 12,
     "metadata": {},
     "output_type": "execute_result"
    }
   ],
   "source": [
    "s = \"abcde\"\n",
    "insert_char (s, len(s), \"z\") # Insert z at the end of the string s"
   ]
  },
  {
   "cell_type": "code",
   "execution_count": 13,
   "id": "205cc103-d33f-4152-9ff5-de047bf30ea2",
   "metadata": {
    "tags": []
   },
   "outputs": [
    {
     "data": {
      "text/plain": [
       "'abzcde'"
      ]
     },
     "execution_count": 13,
     "metadata": {},
     "output_type": "execute_result"
    }
   ],
   "source": [
    "s = \"abcde\"\n",
    "insert_char (s, int (len(s)/2), \"z\") # Insert z at the roughly the middle of the string s"
   ]
  },
  {
   "cell_type": "markdown",
   "id": "ca0b03e3-6a05-48a0-b314-c2b6500ff2ce",
   "metadata": {
    "tags": []
   },
   "source": [
    "### Function 3"
   ]
  },
  {
   "cell_type": "markdown",
   "id": "c0c87f60-9833-4428-aa94-16a48f3157e2",
   "metadata": {},
   "source": [
    "We define another function namely many_inserts() which takes as input a count, a string and an ele and returns a list with ele adjusted at all possible positions in the string starting from 0 to count"
   ]
  },
  {
   "cell_type": "code",
   "execution_count": 20,
   "id": "e5f32f52-698b-45bf-b77f-11b3858b6cc0",
   "metadata": {
    "tags": []
   },
   "outputs": [],
   "source": [
    "def many_inserts(count, string, ele):\n",
    "    some_list = []\n",
    "    for i in range(count):\n",
    "        some_list = some_list + [insert_char(string, i, ele)]\n",
    "    return some_list"
   ]
  },
  {
   "cell_type": "markdown",
   "id": "9fe497dc-cad7-44f4-afb8-9944115c80e5",
   "metadata": {},
   "source": [
    "Lets invoke the function many_inserts() to get an intuition of what it does."
   ]
  },
  {
   "cell_type": "code",
   "execution_count": 21,
   "id": "a024c7e6-8fd6-4d51-9452-00969c1976bb",
   "metadata": {
    "tags": []
   },
   "outputs": [
    {
     "data": {
      "text/plain": [
       "['zabcde']"
      ]
     },
     "execution_count": 21,
     "metadata": {},
     "output_type": "execute_result"
    }
   ],
   "source": [
    "many_inserts (1, \"abcde\", \"z\") # adjust z at start position in abcde"
   ]
  },
  {
   "cell_type": "code",
   "execution_count": 24,
   "id": "21cd5308-a09a-4a67-b0f0-f908271413ea",
   "metadata": {
    "tags": []
   },
   "outputs": [
    {
     "data": {
      "text/plain": [
       "['zabcde', 'azbcde']"
      ]
     },
     "execution_count": 24,
     "metadata": {},
     "output_type": "execute_result"
    }
   ],
   "source": [
    "many_inserts (2, \"abcde\", \"z\") # adjust z at position 0 and 1 in abcde"
   ]
  },
  {
   "cell_type": "code",
   "execution_count": 25,
   "id": "92d07981-ea2c-4eed-ad59-a13046ae95d6",
   "metadata": {
    "tags": []
   },
   "outputs": [
    {
     "data": {
      "text/plain": [
       "['zabcde', 'azbcde', 'abzcde']"
      ]
     },
     "execution_count": 25,
     "metadata": {},
     "output_type": "execute_result"
    }
   ],
   "source": [
    "many_inserts (3, \"abcde\", \"z\") # adjust z at position 0, 1, and 2 in abcde"
   ]
  },
  {
   "cell_type": "markdown",
   "id": "33830ae1-0d6e-43fa-94f4-69de2c9cebe9",
   "metadata": {},
   "source": [
    "### Function 4"
   ]
  },
  {
   "cell_type": "markdown",
   "id": "d055cd7c-820a-4c1d-ba60-35ffffdedb7b",
   "metadata": {},
   "source": [
    "Consider that, we wish to find all possible permutations of the string 'abc'. The idea is to start from the first element of the string as is, in an accumulator, and start to adjust the next element onwards from the string in all possible places around the previously stored elements of the accumulator. For example when the first element is 'a', it gets added to the accumulator. Then the next element 'b' comes from the string and b can be adjusted in two ways in the previously accumulated string 'a' as 'ba' and 'ab'. 'a' is popped out and 'ba' and 'ab' are added in the accumulator in its place. Then 'c' comes, and for each of the two items in the accumulator, 'c' must be adjusted in all possible places. First 'c' is adjusted in 3 ways for the element 'ba' as 'cba', 'bca', and 'bac', while 'ba' is popped out of the accumulator. It is then adjusted in 3 ways for the element 'ab' as 'cab', 'acb', and 'abc' while 'ab' is popped out from the accumulator."
   ]
  },
  {
   "cell_type": "code",
   "execution_count": 44,
   "id": "a8a971a5-572a-47f3-8ef2-a5abdbeaefcc",
   "metadata": {
    "tags": []
   },
   "outputs": [],
   "source": [
    "def permutation(string, accumulator):\n",
    "    for i in range(len(string)): # Loop over the entire string\n",
    "        if i == 0:\n",
    "            accumulator = [string[i]] # add the first ele into accumulator list\n",
    "        else:\n",
    "            k= len(accumulator) # fix k because length of the accumulator will start to change during the execution of the next for loop\n",
    "            for j in range(k): \n",
    "                ele = accumulator.pop(0) # pop the element that is at the start # do this a fixed k number of times\n",
    "                accumulator = accumulator + func(i+1, ele, string[i]) # for the popped element, adjust the next string element at all possible positions around the popped element\n",
    "                print (\"When the ele is: \", ele, \" and the next in line in the string is: \", string[i], \" the accumulator becomes: \", accumulator)\n",
    "    return accumulator"
   ]
  },
  {
   "cell_type": "markdown",
   "id": "3e2d740d-2011-4411-b7c9-0b7c40705c6c",
   "metadata": {},
   "source": [
    "Let us invoke permutations methods to see what it does"
   ]
  },
  {
   "cell_type": "code",
   "execution_count": 45,
   "id": "f3a70931-2fc3-497b-82a5-121d78bd97c8",
   "metadata": {
    "tags": []
   },
   "outputs": [
    {
     "data": {
      "text/plain": [
       "['a']"
      ]
     },
     "execution_count": 45,
     "metadata": {},
     "output_type": "execute_result"
    }
   ],
   "source": [
    "permutation(\"a\", []) # when i is 0, the element is added to the accumulator list"
   ]
  },
  {
   "cell_type": "code",
   "execution_count": 46,
   "id": "4748bec4-0a83-40d0-a152-30c7a236dd58",
   "metadata": {
    "tags": []
   },
   "outputs": [
    {
     "name": "stdout",
     "output_type": "stream",
     "text": [
      "When the ele is:  a  and the next in line in the string is:  b  the accumulator becomes:  ['ba', 'ab']\n"
     ]
    },
    {
     "data": {
      "text/plain": [
       "['ba', 'ab']"
      ]
     },
     "execution_count": 46,
     "metadata": {},
     "output_type": "execute_result"
    }
   ],
   "source": [
    "permutation(\"ab\", []) # when i is 0, the element \"a\" is added to the accumulator list, and \"b\" is adjusted at both possible positions it can take around \"a\" "
   ]
  },
  {
   "cell_type": "code",
   "execution_count": 47,
   "id": "bb95a214-7996-4547-86d9-5427b2f2ad19",
   "metadata": {
    "tags": []
   },
   "outputs": [
    {
     "name": "stdout",
     "output_type": "stream",
     "text": [
      "When the ele is:  a  and the next in line in the string is:  b  the accumulator becomes:  ['ba', 'ab']\n",
      "When the ele is:  ba  and the next in line in the string is:  c  the accumulator becomes:  ['ab', 'cba', 'bca', 'bac']\n",
      "When the ele is:  ab  and the next in line in the string is:  c  the accumulator becomes:  ['cba', 'bca', 'bac', 'cab', 'acb', 'abc']\n"
     ]
    },
    {
     "data": {
      "text/plain": [
       "['cba', 'bca', 'bac', 'cab', 'acb', 'abc']"
      ]
     },
     "execution_count": 47,
     "metadata": {},
     "output_type": "execute_result"
    }
   ],
   "source": [
    "permutation(\"abc\", [])"
   ]
  },
  {
   "cell_type": "code",
   "execution_count": 48,
   "id": "9cdb6663-d9ea-463b-8dec-7f88afe36682",
   "metadata": {
    "tags": []
   },
   "outputs": [
    {
     "data": {
      "text/plain": [
       "[]"
      ]
     },
     "execution_count": 48,
     "metadata": {},
     "output_type": "execute_result"
    }
   ],
   "source": [
    "permutation(\"\", [])"
   ]
  },
  {
   "cell_type": "code",
   "execution_count": 51,
   "id": "2a7e02a2-c13b-4741-8c69-466b6381573e",
   "metadata": {
    "tags": []
   },
   "outputs": [
    {
     "name": "stdout",
     "output_type": "stream",
     "text": [
      "When the ele is:  0  and the next in line in the string is:  1  the accumulator becomes:  ['10', '01']\n",
      "When the ele is:  10  and the next in line in the string is:  2  the accumulator becomes:  ['01', '210', '120', '102']\n",
      "When the ele is:  01  and the next in line in the string is:  2  the accumulator becomes:  ['210', '120', '102', '201', '021', '012']\n",
      "When the ele is:  210  and the next in line in the string is:  3  the accumulator becomes:  ['120', '102', '201', '021', '012', '3210', '2310', '2130', '2103']\n",
      "When the ele is:  120  and the next in line in the string is:  3  the accumulator becomes:  ['102', '201', '021', '012', '3210', '2310', '2130', '2103', '3120', '1320', '1230', '1203']\n",
      "When the ele is:  102  and the next in line in the string is:  3  the accumulator becomes:  ['201', '021', '012', '3210', '2310', '2130', '2103', '3120', '1320', '1230', '1203', '3102', '1302', '1032', '1023']\n",
      "When the ele is:  201  and the next in line in the string is:  3  the accumulator becomes:  ['021', '012', '3210', '2310', '2130', '2103', '3120', '1320', '1230', '1203', '3102', '1302', '1032', '1023', '3201', '2301', '2031', '2013']\n",
      "When the ele is:  021  and the next in line in the string is:  3  the accumulator becomes:  ['012', '3210', '2310', '2130', '2103', '3120', '1320', '1230', '1203', '3102', '1302', '1032', '1023', '3201', '2301', '2031', '2013', '3021', '0321', '0231', '0213']\n",
      "When the ele is:  012  and the next in line in the string is:  3  the accumulator becomes:  ['3210', '2310', '2130', '2103', '3120', '1320', '1230', '1203', '3102', '1302', '1032', '1023', '3201', '2301', '2031', '2013', '3021', '0321', '0231', '0213', '3012', '0312', '0132', '0123']\n"
     ]
    },
    {
     "data": {
      "text/plain": [
       "24"
      ]
     },
     "execution_count": 51,
     "metadata": {},
     "output_type": "execute_result"
    }
   ],
   "source": [
    "len (permutation(\"0123\", [])) # All possible permutations of 4 elements = 4! = 24"
   ]
  }
 ],
 "metadata": {
  "kernelspec": {
   "display_name": "Python 3 (ipykernel)",
   "language": "python",
   "name": "python3"
  },
  "language_info": {
   "codemirror_mode": {
    "name": "ipython",
    "version": 3
   },
   "file_extension": ".py",
   "mimetype": "text/x-python",
   "name": "python",
   "nbconvert_exporter": "python",
   "pygments_lexer": "ipython3",
   "version": "3.11.5"
  }
 },
 "nbformat": 4,
 "nbformat_minor": 5
}
