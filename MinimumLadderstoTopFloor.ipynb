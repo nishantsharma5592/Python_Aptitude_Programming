{
 "cells": [
  {
   "cell_type": "markdown",
   "id": "6c59d868-d402-419d-a0ba-f24620275faa",
   "metadata": {},
   "source": [
    "Question: There are n floors in a building. Ladders are kept from a source floor to a destination floor. We are asked to find the minimum number of ladders needed to reach the top floor, starting at, lets say ground floor. "
   ]
  },
  {
   "cell_type": "markdown",
   "id": "7196b354-2092-4cd4-b714-996515c53b97",
   "metadata": {},
   "source": [
    "Let us make an arrangement for the ladders."
   ]
  },
  {
   "cell_type": "code",
   "execution_count": 1,
   "id": "8793d22d-c994-484f-b21e-72a0b73e7936",
   "metadata": {
    "tags": []
   },
   "outputs": [],
   "source": [
    "arrangement = [[0,1], [0,2], [1,3], [2,4],[3,4]]"
   ]
  },
  {
   "cell_type": "markdown",
   "id": "4a1452ed-a838-40ce-a57d-98b951a13d83",
   "metadata": {},
   "source": [
    "The arrangement with [0,1] declares that there is a ladder kept from the ground floor to the first floor. Similarly, the arrangement with [2, 4] declares that there is a ladder kept from the second floor to the fourth floor."
   ]
  },
  {
   "cell_type": "markdown",
   "id": "98dc28f5-fb37-4fe2-977a-d23081247952",
   "metadata": {},
   "source": [
    "Fourth floor is the topmost floor. We must tell the minimum number of ladders that take us from the ground floor to the top floor. We can see from the arrangement that there is no direct ladder from the ground floor to the top floor. If we take the ladder from the ground floor to the first floor then we must take two more ladders in order to reach the fourth floor. The shortest path, therefore, is [0, 2] and [2, 4] with two ladders."
   ]
  },
  {
   "cell_type": "markdown",
   "id": "23eec09f-a37d-43c0-bb17-dcb1383e7d1b",
   "metadata": {},
   "source": [
    "Note that in this problem, we are only aiming to find the number (2) representing minimum number of ladders, and not the actual shortest path from the source to the destination floor. "
   ]
  },
  {
   "cell_type": "markdown",
   "id": "73e215dc-d563-41d8-83e1-89a8df535c2f",
   "metadata": {
    "tags": []
   },
   "source": [
    "### Function 1"
   ]
  },
  {
   "cell_type": "markdown",
   "id": "6b0e4413-589e-46fc-92ff-5a87cd7047e2",
   "metadata": {},
   "source": [
    "We declare a function namely ladders_count_min() which takes as input a source floor (current floor for recursive understanding), a destination floor and a counter to count the number of ladders for each possible path from source floor to the destination floor. We then take the minimum among all those counters"
   ]
  },
  {
   "cell_type": "code",
   "execution_count": 2,
   "id": "0d5dcc57-f3d6-4567-9624-63913d7b5497",
   "metadata": {
    "tags": []
   },
   "outputs": [],
   "source": [
    "all_possible_paths_count = [] # Global list\n",
    "def ladders_count_min (current, dest, counter):\n",
    "    global all_possible_paths_count # I need a global list to store counters over the entire life of the function \n",
    "    if current == dest:\n",
    "        all_possible_paths_count += [counter] # Store the number of ladders taken to reach dest via the original source\n",
    "        return None\n",
    "    else:\n",
    "        possible_paths_from_current = [path for path in arrangement if path[0]==current] # Possible path from current source toward the dest\n",
    "        print (\"Current floor: \", current, \" and possible paths: \", possible_paths_from_current)\n",
    "        for path in possible_paths_from_current:\n",
    "            ladders_count_min (path[1], dest, counter + 1) # Take all such paths with an increased counter value\n",
    "    return None"
   ]
  },
  {
   "cell_type": "markdown",
   "id": "e61087ad-88af-4a23-9e93-86a471b35aa3",
   "metadata": {},
   "source": [
    "Lets invoke the ladders_count_min () on the first arrangement [[0,1], [0,2], [1,3], [2,4],[3,4]] from source floor 0 to dest floor 4"
   ]
  },
  {
   "cell_type": "code",
   "execution_count": 3,
   "id": "0e1cbd03-1c5a-4a86-bbe2-a83ee3d9fe89",
   "metadata": {
    "tags": []
   },
   "outputs": [
    {
     "name": "stdout",
     "output_type": "stream",
     "text": [
      "Current floor:  0  and possible paths:  [[0, 1], [0, 2]]\n",
      "Current floor:  1  and possible paths:  [[1, 3]]\n",
      "Current floor:  3  and possible paths:  [[3, 4]]\n",
      "Current floor:  2  and possible paths:  [[2, 4]]\n"
     ]
    }
   ],
   "source": [
    "all_possible_paths_count = [] # Before invoking the function clear the global list\n",
    "ladders_count_min (0, 4, 0)"
   ]
  },
  {
   "cell_type": "code",
   "execution_count": 4,
   "id": "bc0d93a0-dade-457e-a7cd-ed46b050057f",
   "metadata": {
    "tags": []
   },
   "outputs": [
    {
     "data": {
      "text/plain": [
       "[3, 2]"
      ]
     },
     "execution_count": 4,
     "metadata": {},
     "output_type": "execute_result"
    }
   ],
   "source": [
    "all_possible_paths_count"
   ]
  },
  {
   "cell_type": "markdown",
   "id": "fef24339-0b95-4af6-ade8-79f0704c85f3",
   "metadata": {},
   "source": [
    "We are interested in the minimum value amongst all possible paths count."
   ]
  },
  {
   "cell_type": "code",
   "execution_count": 5,
   "id": "4d0099ed-3b22-49ad-b958-6e2b3b7c852a",
   "metadata": {
    "tags": []
   },
   "outputs": [
    {
     "data": {
      "text/plain": [
       "2"
      ]
     },
     "execution_count": 5,
     "metadata": {},
     "output_type": "execute_result"
    }
   ],
   "source": [
    "result = min (all_possible_paths_count)\n",
    "result"
   ]
  },
  {
   "cell_type": "markdown",
   "id": "08fcb25e-f96f-4528-a1a1-8e2556b1a2bc",
   "metadata": {},
   "source": [
    "Lets make one further arrangement to check our function"
   ]
  },
  {
   "cell_type": "code",
   "execution_count": 6,
   "id": "32435cda-d1fa-4cc0-9cf0-cc8a8fa4a799",
   "metadata": {
    "tags": []
   },
   "outputs": [],
   "source": [
    "arrangement = [[0,1], [1,2], [2,3], [3,4],[2,4]]"
   ]
  },
  {
   "cell_type": "code",
   "execution_count": 7,
   "id": "f70fcb34-6a53-4d61-8111-6b01ceeb7431",
   "metadata": {
    "tags": []
   },
   "outputs": [
    {
     "name": "stdout",
     "output_type": "stream",
     "text": [
      "Current floor:  0  and possible paths:  [[0, 1]]\n",
      "Current floor:  1  and possible paths:  [[1, 2]]\n",
      "Current floor:  2  and possible paths:  [[2, 3], [2, 4]]\n",
      "Current floor:  3  and possible paths:  [[3, 4]]\n"
     ]
    }
   ],
   "source": [
    "all_possible_paths_count = [] # Before invoking the function clear the global list\n",
    "ladders_count_min (0, 4, 0)"
   ]
  },
  {
   "cell_type": "code",
   "execution_count": 8,
   "id": "e9dff397-8b2c-4cce-8f23-64c4bd2cced9",
   "metadata": {
    "tags": []
   },
   "outputs": [
    {
     "data": {
      "text/plain": [
       "[4, 3]"
      ]
     },
     "execution_count": 8,
     "metadata": {},
     "output_type": "execute_result"
    }
   ],
   "source": [
    "all_possible_paths_count"
   ]
  },
  {
   "cell_type": "code",
   "execution_count": 9,
   "id": "3124e92f-5d0a-493e-8951-33c8cd6091ec",
   "metadata": {
    "tags": []
   },
   "outputs": [
    {
     "data": {
      "text/plain": [
       "3"
      ]
     },
     "execution_count": 9,
     "metadata": {},
     "output_type": "execute_result"
    }
   ],
   "source": [
    "result = min (all_possible_paths_count)\n",
    "result"
   ]
  }
 ],
 "metadata": {
  "kernelspec": {
   "display_name": "Python 3 (ipykernel)",
   "language": "python",
   "name": "python3"
  },
  "language_info": {
   "codemirror_mode": {
    "name": "ipython",
    "version": 3
   },
   "file_extension": ".py",
   "mimetype": "text/x-python",
   "name": "python",
   "nbconvert_exporter": "python",
   "pygments_lexer": "ipython3",
   "version": "3.11.5"
  }
 },
 "nbformat": 4,
 "nbformat_minor": 5
}
