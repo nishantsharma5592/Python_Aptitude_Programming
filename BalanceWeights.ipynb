{
 "cells": [
  {
   "cell_type": "markdown",
   "id": "12688eb3-5b64-4376-8c4c-cdea0a1f0cf3",
   "metadata": {},
   "source": [
    "Question: We are given weights in powers of 3, i.e., {1, 3, 9, 27, 81, 243, 729}. A user inputs a weight (less than 1000). We attempt to balance the weight input by the user on a weighing pan with the weights given to us in powers of 3."
   ]
  },
  {
   "cell_type": "markdown",
   "id": "b7e1d9db-15a2-4823-9445-dd287d456530",
   "metadata": {},
   "source": [
    "### Function 1"
   ]
  },
  {
   "cell_type": "markdown",
   "id": "a930e693-f0eb-4325-b710-490e6988ee5d",
   "metadata": {},
   "source": [
    "We define a function namely find_index() that takes as input a number and a list of numbers and returns the index of the element in the list that is lesser than or equal to the given element. "
   ]
  },
  {
   "cell_type": "code",
   "execution_count": 34,
   "id": "72620bc8-7d92-4041-8c9f-e5919a97f46a",
   "metadata": {
    "tags": []
   },
   "outputs": [],
   "source": [
    "def find_index(ele, alist):\n",
    "    for i in range(len(alist)):\n",
    "        if(alist[i]>ele):\n",
    "            break\n",
    "    return (i-1)"
   ]
  },
  {
   "cell_type": "markdown",
   "id": "ffaf2e68-b1c0-4fbf-861a-0518ca609d66",
   "metadata": {},
   "source": [
    "Let us invoke the function find_index() to see how it behaves"
   ]
  },
  {
   "cell_type": "code",
   "execution_count": 36,
   "id": "54e27e8a-a5ab-40fd-9317-f064aa6755ba",
   "metadata": {
    "tags": []
   },
   "outputs": [
    {
     "data": {
      "text/plain": [
       "1"
      ]
     },
     "execution_count": 36,
     "metadata": {},
     "output_type": "execute_result"
    }
   ],
   "source": [
    "find_index(2, [1,2,3,4,5]) # The index of the element in [1,2,3,4,5] that is lesser than or equal to 2"
   ]
  },
  {
   "cell_type": "code",
   "execution_count": 37,
   "id": "ab12d6e4-0dfe-440e-afea-fcbbddf36285",
   "metadata": {
    "tags": []
   },
   "outputs": [
    {
     "data": {
      "text/plain": [
       "2"
      ]
     },
     "execution_count": 37,
     "metadata": {},
     "output_type": "execute_result"
    }
   ],
   "source": [
    "find_index(5, [1,2,4,7,9,11]) # should print 2; since 4 <= 5 and 4 is at index 2"
   ]
  },
  {
   "cell_type": "markdown",
   "id": "a02a8cfd-7294-4793-9119-7ead74cb4b64",
   "metadata": {},
   "source": [
    "### Function 2"
   ]
  },
  {
   "cell_type": "markdown",
   "id": "14fee859-417e-40f9-a370-260fa4b74f51",
   "metadata": {},
   "source": [
    "We define a function namely sum_so_far() that takes as input an index and a list and returns the sum of elements from 0 to the index (inclusive) in the list"
   ]
  },
  {
   "cell_type": "code",
   "execution_count": 38,
   "id": "6160efb8-b2ee-4aa5-8299-545303ad5485",
   "metadata": {
    "tags": []
   },
   "outputs": [],
   "source": [
    "def sum_so_far(index, alist):\n",
    "    total = sum([alist[i] for i in range(index + 1)]) \n",
    "    return total"
   ]
  },
  {
   "cell_type": "code",
   "execution_count": 39,
   "id": "69e2966b-1de2-40bd-b509-10f0ed9ae3c3",
   "metadata": {
    "tags": []
   },
   "outputs": [
    {
     "data": {
      "text/plain": [
       "7"
      ]
     },
     "execution_count": 39,
     "metadata": {},
     "output_type": "execute_result"
    }
   ],
   "source": [
    "sum_so_far (find_index(5, [1,2,4,7,9,11]), [1,2,4,7,9,11])"
   ]
  },
  {
   "cell_type": "markdown",
   "id": "21b685df-18b9-4b63-93b6-c41b07cb9332",
   "metadata": {},
   "source": [
    "We saw earlier that find_index () on 5 and [1,2,3,7,9,11] returns 2, and sum_so_far () is supposed to add all elements in the list from index 0 to 2 (inclusive), we end up adding 1, 2 and 4 in the list and get 7 as the answer."
   ]
  },
  {
   "cell_type": "markdown",
   "id": "32b34220-f873-4433-8057-924454db3615",
   "metadata": {},
   "source": [
    "Lets take the input weight from the user"
   ]
  },
  {
   "cell_type": "markdown",
   "id": "0909d068-585e-4041-8b4f-d78ca95e1cab",
   "metadata": {},
   "source": [
    "- Come back here to enter different weights and execute the following code in order."
   ]
  },
  {
   "cell_type": "code",
   "execution_count": 60,
   "id": "e43770de-eb17-4b8c-b6f4-f154bd5e21ae",
   "metadata": {
    "tags": []
   },
   "outputs": [
    {
     "name": "stdin",
     "output_type": "stream",
     "text": [
      "Enter the input weight (less than 1000):  236\n"
     ]
    }
   ],
   "source": [
    "unbalanced = int (input (\"Enter the input weight (less than 1000): \"))"
   ]
  },
  {
   "cell_type": "markdown",
   "id": "e7e11f31-3406-4079-a95f-85310e505bd5",
   "metadata": {},
   "source": [
    "Let's define the two pans of the weighing machine. Call them panA and panB. Let us make this a convention to put the weight that is input by the user, always in panB."
   ]
  },
  {
   "cell_type": "code",
   "execution_count": 61,
   "id": "53bbb79e-649a-4b84-b2f4-4b222be60b88",
   "metadata": {
    "tags": []
   },
   "outputs": [],
   "source": [
    "panA = []\n",
    "panB = [unbalanced]\n",
    "alist = [1, 3, 9, 27, 81, 243, 729]"
   ]
  },
  {
   "cell_type": "markdown",
   "id": "94a01c39-86fd-4560-b508-d4fd9a58916e",
   "metadata": {},
   "source": [
    "Key ideas: Let's say that the weight input by the user is 122 units. The first question that i must ask, is it possible to add all weights upto the point where 122 > the largest such weight such that they add up to value greater than or equal 122? If so, then we are interested in the sum of those left hand side weights, otherwise, we are interested in the first weight larger than 122."
   ]
  },
  {
   "cell_type": "markdown",
   "id": "6bf762b1-7b42-4fd5-b533-8bf23e659303",
   "metadata": {},
   "source": [
    "That is, given our list of weights, if I add 1+3+9+27+81, I get 121. Even if I added all the weights to the panA, I would still end up short of balancing the weighing pans. Thus, I must look at weight 243 for my answer. Once I put 243 on panA, panB becomes 'lighter' and can be stuffed up. It only remains, then, to exploit the interplay between the pans until both the pans are balanced."
   ]
  },
  {
   "cell_type": "code",
   "execution_count": 62,
   "id": "8d8405b2-1abb-469c-833e-ddbd6e4cc927",
   "metadata": {
    "tags": []
   },
   "outputs": [
    {
     "name": "stdout",
     "output_type": "stream",
     "text": [
      "PanA:  [243, 3]\n",
      "PanB:  [236, 9, 1]\n"
     ]
    }
   ],
   "source": [
    "while (True):\n",
    "    if (unbalanced == 0): # If the pans are balanced, print panA and panB\n",
    "        print (\"PanA: \", panA)\n",
    "        print (\"PanB: \", panB)\n",
    "        break\n",
    "    index = find_index (unbalanced, alist)\n",
    "    # Find the lighter pan\n",
    "    lighter = panA if sum(panA) < sum (panB) else panB  # Find which is the lighter pan\n",
    "    if sum_so_far (index, alist) < unbalanced: # If the weights on the left hand side cannot be enough\n",
    "        bigger = alist[index + 1] # Choose the first element in the list which is greater than unbalanced\n",
    "        lighter.append (bigger) \n",
    "        unbalanced = abs (bigger - unbalanced) # Update unbalanced now, since some weight has been filled\n",
    "    else:\n",
    "        # The left hand side can do the trick\n",
    "        choice = alist[index] # The largest element on the left hand side that is lesser than or equal to unbalanced\n",
    "        lighter.append(choice)\n",
    "        unbalanced = abs (choice - unbalanced)  "
   ]
  }
 ],
 "metadata": {
  "kernelspec": {
   "display_name": "Python 3 (ipykernel)",
   "language": "python",
   "name": "python3"
  },
  "language_info": {
   "codemirror_mode": {
    "name": "ipython",
    "version": 3
   },
   "file_extension": ".py",
   "mimetype": "text/x-python",
   "name": "python",
   "nbconvert_exporter": "python",
   "pygments_lexer": "ipython3",
   "version": "3.11.5"
  }
 },
 "nbformat": 4,
 "nbformat_minor": 5
}
