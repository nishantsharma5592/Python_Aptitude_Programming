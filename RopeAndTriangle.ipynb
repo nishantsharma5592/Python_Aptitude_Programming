{
 "cells": [
  {
   "cell_type": "markdown",
   "id": "076093fe-36a1-42d2-90e2-ecbc3b6b8f46",
   "metadata": {},
   "source": [
    "Scenario: We are given a rope of 1 unit length. We decide to cut this rope into three parts. What is the probability that the three cut parts successfully form three sides of a triangle? "
   ]
  },
  {
   "cell_type": "markdown",
   "id": "892c7f0f-8ee1-425b-88b3-564f16d9f5f8",
   "metadata": {},
   "source": [
    "For a triangle the following property holds: The sum of any two sides of a triangle is always greater than its third side. "
   ]
  },
  {
   "cell_type": "markdown",
   "id": "c094b63a-3b03-418d-b499-134a1411f282",
   "metadata": {},
   "source": [
    "Note that the question itself is not difficult, but I would like to motivate here the significance of simulation based fact learning."
   ]
  },
  {
   "cell_type": "markdown",
   "id": "125b6c4e-f6bf-4744-97e4-80aaa4ebd45d",
   "metadata": {},
   "source": [
    "### Function 1"
   ]
  },
  {
   "cell_type": "markdown",
   "id": "7d0f7ae1-08b6-4bfc-91ba-e5a1b14df917",
   "metadata": {},
   "source": [
    "We define a function namely check () that takes as input the dimensions of three cut parts and state if they can successfully form sides of a triangle."
   ]
  },
  {
   "cell_type": "code",
   "execution_count": 1,
   "id": "6a6560a9-a03a-48e8-8a0a-c41715972543",
   "metadata": {
    "tags": []
   },
   "outputs": [],
   "source": [
    "def check (first, second, third):\n",
    "    if ((first + second > third) and (second + third > first) and (first + third > second)): # If these three cut rope parts \n",
    "        # successfully form sides of a triangle\n",
    "        return True\n",
    "    # The function defaults to returning false\n",
    "    return False"
   ]
  },
  {
   "cell_type": "markdown",
   "id": "8888c362-df94-4120-911f-016930a7c9d3",
   "metadata": {},
   "source": [
    "Let's invoke the check function on some inputs and see how it behaves."
   ]
  },
  {
   "cell_type": "code",
   "execution_count": 2,
   "id": "d5de0576-3ce2-42e1-8be6-1438dd6c04d4",
   "metadata": {
    "tags": []
   },
   "outputs": [
    {
     "data": {
      "text/plain": [
       "True"
      ]
     },
     "execution_count": 2,
     "metadata": {},
     "output_type": "execute_result"
    }
   ],
   "source": [
    "check (3,4,5)"
   ]
  },
  {
   "cell_type": "code",
   "execution_count": 3,
   "id": "f2c5c4b3-aa16-40e5-a527-ef5a59128e0b",
   "metadata": {
    "tags": []
   },
   "outputs": [
    {
     "data": {
      "text/plain": [
       "True"
      ]
     },
     "execution_count": 3,
     "metadata": {},
     "output_type": "execute_result"
    }
   ],
   "source": [
    "check (2, 7, 8)"
   ]
  },
  {
   "cell_type": "code",
   "execution_count": 4,
   "id": "8c340033-1cc5-4253-8552-5ce604335669",
   "metadata": {
    "tags": []
   },
   "outputs": [
    {
     "data": {
      "text/plain": [
       "True"
      ]
     },
     "execution_count": 4,
     "metadata": {},
     "output_type": "execute_result"
    }
   ],
   "source": [
    "check (1, 1, 1) # Equilateral triangle"
   ]
  },
  {
   "cell_type": "code",
   "execution_count": 5,
   "id": "2f5d6183-ab30-47e7-9e43-cae32957fe94",
   "metadata": {
    "tags": []
   },
   "outputs": [
    {
     "data": {
      "text/plain": [
       "False"
      ]
     },
     "execution_count": 5,
     "metadata": {},
     "output_type": "execute_result"
    }
   ],
   "source": [
    "check (4, 1, 3)"
   ]
  },
  {
   "cell_type": "code",
   "execution_count": 6,
   "id": "c473405d-4104-4a4c-98e9-8fda0e08c363",
   "metadata": {
    "tags": []
   },
   "outputs": [
    {
     "data": {
      "text/plain": [
       "True"
      ]
     },
     "execution_count": 6,
     "metadata": {},
     "output_type": "execute_result"
    }
   ],
   "source": [
    "check (4, 4, 1) # Isosceles triangle"
   ]
  },
  {
   "cell_type": "markdown",
   "id": "68abdbc8-4875-4aa1-84cc-c36bc83d258f",
   "metadata": {},
   "source": [
    "Now, a question arises, how should I break the three ropes from a unit length rope? In order to avoid complications that arise from decimal numbers, let us instead scale the rope length to 10."
   ]
  },
  {
   "cell_type": "code",
   "execution_count": 7,
   "id": "9a1a068d-a9e0-48b7-b8ab-848d2e076bb9",
   "metadata": {
    "tags": []
   },
   "outputs": [],
   "source": [
    "rope_length = 10"
   ]
  },
  {
   "cell_type": "markdown",
   "id": "af40ad8a-4fc2-4bed-b6be-a66310f3964d",
   "metadata": {},
   "source": [
    "We must then ensure that all three cut parts add up to rope_length. "
   ]
  },
  {
   "cell_type": "markdown",
   "id": "b1ad42f8-d95b-4064-8012-28d32a67e6b1",
   "metadata": {},
   "source": [
    "We will use the naive mathematical understanding of probability that defines it as favorable outcomes (successfully forming sides of a triangle) to total outcomes (total possible ways of legitimately cutting the rope into three parts)"
   ]
  },
  {
   "cell_type": "markdown",
   "id": "127f8698-82c4-4667-a98d-b4c5d54e569f",
   "metadata": {},
   "source": [
    "### Function 2"
   ]
  },
  {
   "cell_type": "markdown",
   "id": "171871fe-3be7-4574-9dec-194b841639ee",
   "metadata": {},
   "source": [
    "We define a function namely probability () that takes as input rope length and returns the probability that three cut parts from the rope successfuly form three sides of a triangle. Note that this formulation of the function probability () that takes rope length as input is essential for the final point that I wish to make regarding simulation based fact learning."
   ]
  },
  {
   "cell_type": "code",
   "execution_count": 8,
   "id": "0b3e9e5a-886a-4a5b-a722-f6f7728907d6",
   "metadata": {
    "tags": []
   },
   "outputs": [],
   "source": [
    "def probability (rope_length): \n",
    "    total_outcomes = 0 # A legitimate three piece cut forms part of the total outcomes\n",
    "    favorable_outcomes = 0 # Three cut parts successfully forming three sides of a triangle form part of favorable outcome\n",
    "    for first in range (1, rope_length): # This range can be smaller as well but I am keeping things simple\n",
    "        for second in range (1, rope_length):\n",
    "            for third in range (1, rope_length):\n",
    "                if (first + second + third) == rope_length:\n",
    "                    total_outcomes += 1\n",
    "                    if (check (first, second, third)): # Only if it is a legitimate cut, check if it is also a successful cut\n",
    "                        favorable_outcomes += 1\n",
    "    return (favorable_outcomes/ total_outcomes)"
   ]
  },
  {
   "cell_type": "code",
   "execution_count": 9,
   "id": "4cab5aff-432b-42a8-adba-8be1d7ac40f6",
   "metadata": {
    "tags": []
   },
   "outputs": [
    {
     "data": {
      "text/plain": [
       "16.666666666666664"
      ]
     },
     "execution_count": 9,
     "metadata": {},
     "output_type": "execute_result"
    }
   ],
   "source": [
    "probability (rope_length) * 100"
   ]
  },
  {
   "cell_type": "markdown",
   "id": "b47b4caf-9d4b-4cf4-ba04-5d8d720644de",
   "metadata": {},
   "source": [
    "Note that we get a probability of 16.67%. However, this isn't the correct probability. The scaling of rope length to 10 is not sufficient to reach the correct fact. So, one strategy that we can follow is increase the scaling of rope_length in and see if the result converges to some stable probability value."
   ]
  },
  {
   "cell_type": "code",
   "execution_count": 10,
   "id": "5e647657-3a2a-4609-b95a-b69f61db1a94",
   "metadata": {
    "tags": []
   },
   "outputs": [
    {
     "data": {
      "text/plain": [
       "23.46938775510204"
      ]
     },
     "execution_count": 10,
     "metadata": {},
     "output_type": "execute_result"
    }
   ],
   "source": [
    "rope_length = 50\n",
    "probability (rope_length) * 100"
   ]
  },
  {
   "cell_type": "code",
   "execution_count": 11,
   "id": "81a13d1e-3384-41a5-9a47-4e926827c975",
   "metadata": {
    "tags": []
   },
   "outputs": [
    {
     "data": {
      "text/plain": [
       "24.242424242424242"
      ]
     },
     "execution_count": 11,
     "metadata": {},
     "output_type": "execute_result"
    }
   ],
   "source": [
    "rope_length = 100\n",
    "probability (rope_length) * 100"
   ]
  },
  {
   "cell_type": "code",
   "execution_count": 12,
   "id": "f08a3a8e-943f-4df6-94bb-9dc3fc92af6e",
   "metadata": {
    "tags": []
   },
   "outputs": [
    {
     "data": {
      "text/plain": [
       "24.849699398797593"
      ]
     },
     "execution_count": 12,
     "metadata": {},
     "output_type": "execute_result"
    }
   ],
   "source": [
    "rope_length = 500\n",
    "probability (rope_length) * 100"
   ]
  },
  {
   "cell_type": "code",
   "execution_count": 13,
   "id": "22bf5246-8885-4645-9393-7749e650b0de",
   "metadata": {
    "tags": []
   },
   "outputs": [
    {
     "data": {
      "text/plain": [
       "24.924924924924923"
      ]
     },
     "execution_count": 13,
     "metadata": {},
     "output_type": "execute_result"
    }
   ],
   "source": [
    "rope_length = 1000\n",
    "probability (rope_length) * 100"
   ]
  },
  {
   "cell_type": "code",
   "execution_count": 14,
   "id": "b02e927d-11ec-402b-a1fd-276e2ec8a9b4",
   "metadata": {
    "tags": []
   },
   "outputs": [
    {
     "data": {
      "text/plain": [
       "24.94996664442962"
      ]
     },
     "execution_count": 14,
     "metadata": {},
     "output_type": "execute_result"
    }
   ],
   "source": [
    "rope_length = 1500 # This takes a long time to run\n",
    "probability (rope_length) * 100"
   ]
  },
  {
   "cell_type": "markdown",
   "id": "c0c614d2-f46a-439f-ab09-611cabb31173",
   "metadata": {},
   "source": [
    "Even though it is not an optimized program and has a very high running time complexity; it however, does illustrate that the answer converges to approximately 25% which is the correct answer."
   ]
  }
 ],
 "metadata": {
  "kernelspec": {
   "display_name": "Python 3 (ipykernel)",
   "language": "python",
   "name": "python3"
  },
  "language_info": {
   "codemirror_mode": {
    "name": "ipython",
    "version": 3
   },
   "file_extension": ".py",
   "mimetype": "text/x-python",
   "name": "python",
   "nbconvert_exporter": "python",
   "pygments_lexer": "ipython3",
   "version": "3.11.5"
  }
 },
 "nbformat": 4,
 "nbformat_minor": 5
}
