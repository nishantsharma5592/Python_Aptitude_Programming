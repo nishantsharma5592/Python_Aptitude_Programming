{
 "cells": [
  {
   "cell_type": "markdown",
   "id": "c54df208-ccd9-4ae6-a2bd-2da6d65f7775",
   "metadata": {},
   "source": [
    "Question: We are given a list of numbers and a target value. We are to declare victory if there exists a sequence of operations among the numbers from the list taken only once and using the four arithmetic operators (+, - , *, and /) such that the target value is achieved."
   ]
  },
  {
   "cell_type": "markdown",
   "id": "850dd32f-1b53-428b-9dbb-b21bba5707c0",
   "metadata": {},
   "source": [
    "For instance, given a list [1, 2] and a target 3, we have 1+2 giving 3. Similarly, given a list [2, 4] and a target 8, we have 2*4 giving 8. given a list [2, 4] and a target 3, there is no possible way to construct 3 using any of the four arithmetic operatons and taking a single number only once.  "
   ]
  },
  {
   "cell_type": "markdown",
   "id": "5e7f4ad1-3c9f-4e73-8208-44822680cfb2",
   "metadata": {},
   "source": [
    "For a more involved example, consider the list [1,3,7,10] and a target 23, we have 10*3-7 that achieves the target value. Note that, there may be more than one possible ways to make the target value. We declare victory if atleast one such sequence exists."
   ]
  },
  {
   "cell_type": "markdown",
   "id": "d26cf6ed-3cb9-4808-9dc5-082295d73138",
   "metadata": {},
   "source": [
    "### Function 1"
   ]
  },
  {
   "cell_type": "markdown",
   "id": "d4bef30c-a9b2-4768-94b5-03569279ed6d",
   "metadata": {},
   "source": [
    "We define a function has_atleast_one_solution () that takes as input a list of numbers and a target value and returns true if it is possible to create a sequence of operations among the numbers from the list taken only once and using the four arithmetic operators (+, - , *, and /) such that the target value is achieved "
   ]
  },
  {
   "cell_type": "code",
   "execution_count": 1,
   "id": "149adf96-99b6-44d4-b5d0-51156852f1ee",
   "metadata": {
    "tags": []
   },
   "outputs": [],
   "source": [
    "def has_atleast_one_solution (alist, target):\n",
    "    if target == 0: # We consider target becoming 0 as victory. i.e., instead of starting with elements in the list and trying\n",
    "        # to form the target, we start from the target and try to diminish it to zero\n",
    "        return True\n",
    "    else:\n",
    "        for number in alist:\n",
    "            added = target + number\n",
    "            subtracted = target - number\n",
    "            multiplied = target * number\n",
    "            divided = target / number\n",
    "            remaining_list_without_this_number = [contained for contained in alist if contained != number] # Make a remaining \n",
    "            # list of numbers (separate from the current number in the for loop) that have yet to be tried with a sequence\n",
    "            # containing the current number\n",
    "            \n",
    "            # If any of the future sequences made from the combinations with the current number lead to a true value then \n",
    "            # we declare victory\n",
    "            if  has_atleast_one_solution (remaining_list_without_this_number, added) or \\\n",
    "                has_atleast_one_solution (remaining_list_without_this_number, subtracted) or \\\n",
    "                has_atleast_one_solution (remaining_list_without_this_number, multiplied) or \\\n",
    "                has_atleast_one_solution (remaining_list_without_this_number, divided):\n",
    "                    return True\n",
    "    # The function defaults to returning false, when no such sequence is possible\n",
    "    return False\n",
    "                    \n",
    "    "
   ]
  },
  {
   "cell_type": "markdown",
   "id": "6dfd326e-82ea-4c68-9c5e-fe544cfb2768",
   "metadata": {},
   "source": [
    "Let's invoke the function has_atleast_one_solution () to see how it behaves"
   ]
  },
  {
   "cell_type": "code",
   "execution_count": 2,
   "id": "723cf114-3b9b-4c4b-914a-6ef03ba9fbbd",
   "metadata": {
    "tags": []
   },
   "outputs": [
    {
     "data": {
      "text/plain": [
       "True"
      ]
     },
     "execution_count": 2,
     "metadata": {},
     "output_type": "execute_result"
    }
   ],
   "source": [
    "has_atleast_one_solution([1,2],3)"
   ]
  },
  {
   "cell_type": "code",
   "execution_count": 3,
   "id": "13bd77a1-a277-4ac2-b0ff-88ebe0c3f2ba",
   "metadata": {
    "tags": []
   },
   "outputs": [
    {
     "data": {
      "text/plain": [
       "True"
      ]
     },
     "execution_count": 3,
     "metadata": {},
     "output_type": "execute_result"
    }
   ],
   "source": [
    "has_atleast_one_solution([2,4],8)"
   ]
  },
  {
   "cell_type": "code",
   "execution_count": 4,
   "id": "daf3426e-4605-4077-8e21-1a19bf24fb27",
   "metadata": {
    "tags": []
   },
   "outputs": [
    {
     "data": {
      "text/plain": [
       "False"
      ]
     },
     "execution_count": 4,
     "metadata": {},
     "output_type": "execute_result"
    }
   ],
   "source": [
    "has_atleast_one_solution([2,4],7)"
   ]
  },
  {
   "cell_type": "code",
   "execution_count": 5,
   "id": "4ac829ce-248e-44ad-a8e0-07d173cab4f4",
   "metadata": {
    "tags": []
   },
   "outputs": [
    {
     "data": {
      "text/plain": [
       "False"
      ]
     },
     "execution_count": 5,
     "metadata": {},
     "output_type": "execute_result"
    }
   ],
   "source": [
    "has_atleast_one_solution([1,2],5)"
   ]
  },
  {
   "cell_type": "code",
   "execution_count": 6,
   "id": "e0302fce-4b18-4916-a974-4dd03d549172",
   "metadata": {
    "tags": []
   },
   "outputs": [
    {
     "data": {
      "text/plain": [
       "True"
      ]
     },
     "execution_count": 6,
     "metadata": {},
     "output_type": "execute_result"
    }
   ],
   "source": [
    "has_atleast_one_solution([1,3,7,10,25,50],765) # (50*10) + {(7+3+1)*25}"
   ]
  },
  {
   "cell_type": "code",
   "execution_count": 7,
   "id": "9b282586-55be-43e6-92ac-e7fea6cb94e8",
   "metadata": {
    "tags": []
   },
   "outputs": [
    {
     "data": {
      "text/plain": [
       "False"
      ]
     },
     "execution_count": 7,
     "metadata": {},
     "output_type": "execute_result"
    }
   ],
   "source": [
    "has_atleast_one_solution([1,3,7,10,25,50],831)"
   ]
  },
  {
   "cell_type": "code",
   "execution_count": 8,
   "id": "cb35d525-87c8-434b-bff6-c294dd9ced9a",
   "metadata": {
    "tags": []
   },
   "outputs": [
    {
     "data": {
      "text/plain": [
       "False"
      ]
     },
     "execution_count": 8,
     "metadata": {},
     "output_type": "execute_result"
    }
   ],
   "source": [
    "has_atleast_one_solution([1,3,7,10],25)"
   ]
  },
  {
   "cell_type": "code",
   "execution_count": 9,
   "id": "0461b54f-3a91-4ccb-aac5-4259c1e68cc0",
   "metadata": {
    "tags": []
   },
   "outputs": [
    {
     "data": {
      "text/plain": [
       "True"
      ]
     },
     "execution_count": 9,
     "metadata": {},
     "output_type": "execute_result"
    }
   ],
   "source": [
    "has_atleast_one_solution([1,3,7,10],23) # 10*3-7"
   ]
  }
 ],
 "metadata": {
  "kernelspec": {
   "display_name": "Python 3 (ipykernel)",
   "language": "python",
   "name": "python3"
  },
  "language_info": {
   "codemirror_mode": {
    "name": "ipython",
    "version": 3
   },
   "file_extension": ".py",
   "mimetype": "text/x-python",
   "name": "python",
   "nbconvert_exporter": "python",
   "pygments_lexer": "ipython3",
   "version": "3.11.5"
  }
 },
 "nbformat": 4,
 "nbformat_minor": 5
}
