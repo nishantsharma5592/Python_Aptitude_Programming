{
 "cells": [
  {
   "cell_type": "markdown",
   "id": "596cc9ce-8ac2-4712-bc31-250bdd12c8e7",
   "metadata": {},
   "source": [
    "I want to multiply two large numbers. Strings seem to be friendly."
   ]
  },
  {
   "cell_type": "markdown",
   "id": "546fe13b-541d-4f67-b744-a6b047033b69",
   "metadata": {},
   "source": [
    "I also want to multiply two numbers as we do in the notebook"
   ]
  },
  {
   "cell_type": "markdown",
   "id": "a961d38b-6de3-4e91-881f-901c432bf514",
   "metadata": {},
   "source": [
    "### Function 1 "
   ]
  },
  {
   "cell_type": "markdown",
   "id": "490029af-bf1b-49f5-9a08-fd5a89abdada",
   "metadata": {},
   "source": [
    "The first function takes a number as a string and another singleton number as a string, and multiplies the singleton number with the larger number. Returns the multiplication as a string again. \n",
    "- The multiplication is similar to primary school mathematics"
   ]
  },
  {
   "cell_type": "code",
   "execution_count": 1,
   "id": "45069f6d-4141-49a1-9a4f-11b87126ab3b",
   "metadata": {
    "tags": []
   },
   "outputs": [],
   "source": [
    "def digit_multiplies_number (number, digit):\n",
    "    carry = 0 \n",
    "    result = ''\n",
    "    for broken_digit in number[-1::-1]: # start in reverse \n",
    "        mul = (int (broken_digit) * int (digit))\n",
    "        result = str ((mul + carry)%10) + result\n",
    "        carry = int ((mul+carry)/10)\n",
    "    if carry > 0: # account for the last carry\n",
    "        result = str(carry) + result\n",
    "    return result"
   ]
  },
  {
   "cell_type": "code",
   "execution_count": 2,
   "id": "b8c29154-5430-49ad-900f-ee84556dcafe",
   "metadata": {
    "tags": []
   },
   "outputs": [
    {
     "data": {
      "text/plain": [
       "str"
      ]
     },
     "execution_count": 2,
     "metadata": {},
     "output_type": "execute_result"
    }
   ],
   "source": [
    "RESULT = digit_multiplies_number ('735', '5')\n",
    "type  (RESULT)"
   ]
  },
  {
   "cell_type": "code",
   "execution_count": 3,
   "id": "d49fadcd-9a8c-4487-93f0-6d7343455f01",
   "metadata": {
    "tags": []
   },
   "outputs": [
    {
     "name": "stdout",
     "output_type": "stream",
     "text": [
      "3675\n"
     ]
    }
   ],
   "source": [
    "RESULT = digit_multiplies_number ('735', '5')\n",
    "print  (RESULT)"
   ]
  },
  {
   "cell_type": "code",
   "execution_count": 4,
   "id": "354b7df4-2735-4c00-8149-3120c99f6b71",
   "metadata": {
    "tags": []
   },
   "outputs": [
    {
     "name": "stdout",
     "output_type": "stream",
     "text": [
      "1470\n"
     ]
    }
   ],
   "source": [
    "RESULT = digit_multiplies_number ('735', '2')\n",
    "print  (RESULT)"
   ]
  },
  {
   "cell_type": "code",
   "execution_count": 5,
   "id": "d86de007-0a63-4030-8a3d-f4606f949afd",
   "metadata": {
    "tags": []
   },
   "outputs": [
    {
     "name": "stdout",
     "output_type": "stream",
     "text": [
      "5145\n"
     ]
    }
   ],
   "source": [
    "RESULT = digit_multiplies_number ('735', '7')\n",
    "print (RESULT)"
   ]
  },
  {
   "cell_type": "markdown",
   "id": "9718d66d-0a71-48b8-96a6-35385bc5389b",
   "metadata": {},
   "source": [
    "### Function 2"
   ]
  },
  {
   "cell_type": "markdown",
   "id": "3a7db83c-6bbb-4ba7-b096-956998d82a13",
   "metadata": {},
   "source": [
    "We define a second function add() to add strings in a list numerically"
   ]
  },
  {
   "cell_type": "code",
   "execution_count": 6,
   "id": "5ea45f5f-49b4-409e-b781-2f207bb86ea4",
   "metadata": {
    "tags": []
   },
   "outputs": [],
   "source": [
    "def add (str_list):\n",
    "    max_len = max([len(str_) for str_ in str_list])\n",
    "    z_filled = [str_.zfill(max_len) for str_ in str_list]\n",
    "    carry = 0\n",
    "    result = ''\n",
    "    for i in range (max_len-1,-1,-1): # start in reverse\n",
    "        add = sum([int(str_[i]) for str_ in z_filled]) # pad zeroes\n",
    "        result = str((add + carry)%10) + result\n",
    "        carry = int ((add + carry)/10)\n",
    "    if carry > 0: # account for the last carry\n",
    "        result = str(carry) + result\n",
    "    return result"
   ]
  },
  {
   "cell_type": "code",
   "execution_count": 7,
   "id": "62aaba14-3b64-4b8f-8a5c-71895c4d97ee",
   "metadata": {
    "tags": []
   },
   "outputs": [
    {
     "name": "stdout",
     "output_type": "stream",
     "text": [
      "115708\n"
     ]
    }
   ],
   "source": [
    "RESULT = add (['36754', '78954'])\n",
    "print (RESULT)"
   ]
  },
  {
   "cell_type": "code",
   "execution_count": 8,
   "id": "976a4704-95e9-4936-8dad-9357713a76e8",
   "metadata": {
    "tags": []
   },
   "outputs": [
    {
     "name": "stdout",
     "output_type": "stream",
     "text": [
      "692351440621\n"
     ]
    }
   ],
   "source": [
    "RESULT = add (['25678876398', '666672564223'])\n",
    "print (RESULT)"
   ]
  },
  {
   "cell_type": "markdown",
   "id": "d9664cba-dbdb-49ab-95ac-abfea6b0cb6b",
   "metadata": {},
   "source": [
    "### Function 3 (The driver function)"
   ]
  },
  {
   "cell_type": "code",
   "execution_count": 9,
   "id": "6c4c97ff-4a34-406e-8815-685f473bb9b4",
   "metadata": {
    "tags": []
   },
   "outputs": [],
   "source": [
    "def str_multiply (str1, str2): # Takes two strings as input and returns their multiplication\n",
    "    # The next line takes the two strings and multiplies digit wise by using the digit_multiplies_number function\n",
    "    # and accounting for appropriate zeroes\n",
    "    digit_multiplies_number_list = [digit_multiplies_number(str1,str2[i])+str(0)*abs(len(str2)-i-1) for i in range (len(str2)-1,-1,-1)]\n",
    "    return add (digit_multiplies_number_list) # add obtained strings"
   ]
  },
  {
   "cell_type": "code",
   "execution_count": 10,
   "id": "5417b84c-1919-4273-9f2f-f3abdc45871c",
   "metadata": {
    "tags": []
   },
   "outputs": [
    {
     "name": "stdout",
     "output_type": "stream",
     "text": [
      "5145\n"
     ]
    }
   ],
   "source": [
    "RESULT = str_multiply ('735', '7') \n",
    "print(RESULT)"
   ]
  },
  {
   "cell_type": "code",
   "execution_count": 11,
   "id": "4795f6ef-986c-403b-a4c0-d1fb13aca2b8",
   "metadata": {
    "tags": []
   },
   "outputs": [
    {
     "name": "stdout",
     "output_type": "stream",
     "text": [
      "176917533923287\n"
     ]
    }
   ],
   "source": [
    "RESULT = str_multiply ('658795421', '268547') \n",
    "print(RESULT)"
   ]
  },
  {
   "cell_type": "code",
   "execution_count": 12,
   "id": "abb3fa9d-170a-4cb7-89e9-70d24a191738",
   "metadata": {
    "tags": []
   },
   "outputs": [
    {
     "name": "stdout",
     "output_type": "stream",
     "text": [
      "908441644675724\n"
     ]
    }
   ],
   "source": [
    "RESULT = str_multiply ('3567945127', '254612') \n",
    "print(RESULT)"
   ]
  }
 ],
 "metadata": {
  "kernelspec": {
   "display_name": "Python 3 (ipykernel)",
   "language": "python",
   "name": "python3"
  },
  "language_info": {
   "codemirror_mode": {
    "name": "ipython",
    "version": 3
   },
   "file_extension": ".py",
   "mimetype": "text/x-python",
   "name": "python",
   "nbconvert_exporter": "python",
   "pygments_lexer": "ipython3",
   "version": "3.11.5"
  }
 },
 "nbformat": 4,
 "nbformat_minor": 5
}
